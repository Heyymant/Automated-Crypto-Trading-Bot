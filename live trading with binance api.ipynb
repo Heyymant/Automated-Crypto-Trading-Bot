{
 "cells": [
  {
   "cell_type": "code",
   "execution_count": 1,
   "id": "ac007fc7",
   "metadata": {},
   "outputs": [],
   "source": [
    "import pandas as pd \n",
    "from binance.client import Client\n",
    "from binance_key import api_key , secret_key\n",
    "from datetime import datetime , timedelta\n",
    "\n",
    "import time"
   ]
  },
  {
   "cell_type": "code",
   "execution_count": 2,
   "id": "e91fc890",
   "metadata": {},
   "outputs": [],
   "source": [
    "client = Client(api_key , secret_key,tld ='us')\n"
   ]
  },
  {
   "cell_type": "code",
   "execution_count": null,
   "id": "af1d3aaa",
   "metadata": {},
   "outputs": [],
   "source": []
  },
  {
   "cell_type": "code",
   "execution_count": 3,
   "id": "177975ec",
   "metadata": {},
   "outputs": [],
   "source": [
    "# calculating moving average\n",
    "def sma(data , window):\n",
    "    return (data.rolling(window = window).mean())\n",
    "\n",
    "# bollinger band strat\n",
    "def bollinger_bands(data , sma , window ,nstd):\n",
    "#     standard deviation \n",
    "    std = data.rolling(window = window).std()\n",
    "    upper_band = sma + std * nstd\n",
    "    lower_band = sma - std * nstd\n",
    "    return upper_band , lower_band"
   ]
  },
  {
   "cell_type": "code",
   "execution_count": 4,
   "id": "aabdfe70",
   "metadata": {},
   "outputs": [],
   "source": [
    "symbols = ['BTC', 'ETH','LTC']\n",
    "start_n_hours_ago = 48\n",
    "\n",
    "def gather_data(symbols, start_n_hours_ago):\n",
    "    merge = False\n",
    "    for symbol in symbols :\n",
    "        \n",
    "    #     start_date = \"May 1, 2022\"\n",
    "        print(f'gathering {symbol}')\n",
    "        klines = client.get_historical_klines(symbol = f'{symbol}USDT',\n",
    "                                              interval = client.KLINE_INTERVAL_1HOUR, \n",
    "                                              start_str = str(datetime.now() - timedelta(hours = start_n_hours_ago)))\n",
    "\n",
    "        # initializing the columns \n",
    "        cols = [\n",
    "            'OpenTime',\n",
    "            f'{symbol}-USD_Open',\n",
    "            f'{symbol}-USD_High',\n",
    "            f'{symbol}-USD_Low',\n",
    "            f'{symbol}-USD_Close',\n",
    "            f'{symbol}-USD_Volume',\n",
    "            'CloseTime',\n",
    "            f'{symbol}-QuoteAssetVolume',\n",
    "            f'{symbol}-NumberOfTrades',\n",
    "            f'{symbol}-TBBASV',\n",
    "            f'{symbol}-TBQAV',\n",
    "            f'{symbol}-ignore',\n",
    "\n",
    "        ]\n",
    "\n",
    "        #  setting the columns to cols \n",
    "        # klines.columns = cols \n",
    "        df = pd.DataFrame(klines ,columns  = cols)\n",
    "\n",
    "\n",
    "        if merge == True:\n",
    "            dfs = pd.merge(df ,dfs, how ='inner', on = ['OpenTime' , 'CloseTime'])\n",
    "        else :\n",
    "            dfs = df\n",
    "            merge = True\n",
    "\n",
    "    dfs.OpenTime = [datetime.fromtimestamp(ts / 1000) for ts in df.OpenTime]\n",
    "    dfs.CloseTime = [datetime.fromtimestamp(ts /1000) for ts in dfs.CloseTime]\n",
    "\n",
    "    for col in dfs.columns :\n",
    "        if not 'Time' in col :\n",
    "            dfs[col] = dfs[col].astype(float)\n",
    "\n",
    "    for symbol in symbols :\n",
    "        dfs[f'{symbol}_sma'] = sma(dfs[f'{symbol}-USD_Close'], 20)\n",
    "        dfs[f'{symbol}_upper_band'] , dfs[f'{symbol}_lower_band'] = bollinger_bands(dfs[f'{symbol}-USD_Close'], \n",
    "                                                                               sma =  dfs[f'{symbol}_sma'],\n",
    "                                                                               window =20, nstd=3)\n",
    "    dfs.dropna(inplace =True)\n",
    "        \n",
    "    return dfs\n"
   ]
  },
  {
   "cell_type": "code",
   "execution_count": 5,
   "id": "fb74f495",
   "metadata": {},
   "outputs": [],
   "source": [
    "# dfs.OpenTime = [datetime.fromtimestamp(ts / 1000) for ts in df.OpenTime]\n",
    "# dfs.CloseTime = [datetime.fromtimestamp(ts /1000) for ts in dfs.CloseTime]"
   ]
  },
  {
   "cell_type": "code",
   "execution_count": 6,
   "id": "437db326",
   "metadata": {},
   "outputs": [],
   "source": [
    "# df =gather_data(symbols , 48)"
   ]
  },
  {
   "cell_type": "code",
   "execution_count": 7,
   "id": "8273cb1c",
   "metadata": {},
   "outputs": [],
   "source": [
    "def get_states(df, symbols):\n",
    "    states = {}\n",
    "\n",
    "    for symbol in symbols :\n",
    "        if df[f'{symbol}-USD_Close'].iloc[-1] <  df[f'{symbol}_lower_band'].iloc[-1] :\n",
    "            states[symbol] = 'below'\n",
    "        elif  df[f'{symbol}-USD_Open'].iloc[-1] > df[f'{symbol}_upper_band'].iloc[-1] :\n",
    "            states[symbol] = 'above'\n",
    "        else :\n",
    "            states[symbol] = 'inside' \n",
    "            \n",
    "    return states"
   ]
  },
  {
   "cell_type": "code",
   "execution_count": null,
   "id": "a16e7534",
   "metadata": {},
   "outputs": [],
   "source": [
    "balance_unit = 'USDT'\n",
    "first = True\n",
    "# for constantly gathering the live data\n",
    "\n",
    "while True :\n",
    "    if datetime.now().second% 10 == 0 and first :\n",
    "        if (datetime.now().minute == 0 and datetime.now().second ==10) and first :\n",
    "#             start gathering data at the top of hours\n",
    "                first = False\n",
    "                df  = gather_data(symbols , 48)\n",
    "                states = get.states(df, symbols)\n",
    "                print('current state of the market:')\n",
    "                print(states)\n",
    "                \n",
    "        try:\n",
    "            print('\\n')\n",
    "            if balance_unit == 'USDT':\n",
    "                for symbol in symbols :\n",
    "                    ask_price = float(client.get_orderbook_ticker(symbol = f'{symbol}USDT')['askPrice'])\n",
    "                    lower_band =df[f'{symbol}_lower_band'].iloc[-1]\n",
    "\n",
    "                    print(f'{ask_price} and {lower_band}')\n",
    "\n",
    "                    if ask_price < lower_band and states[symbol] == 'inside':      # buy signal\n",
    "                        print('buy')\n",
    "                        balance_unit = symbol\n",
    "                        break\n",
    "\n",
    "            if balance_unit != 'USDT':\n",
    "\n",
    "                bid_price = float(client.get_orderbook_ticker(symbol = f'{balance_unit}USDT')['bidPrice'])\n",
    "                upper_band =df[f'{balance_unit}_upper_band'].iloc[-1]\n",
    "\n",
    "                print(f'{bid_price} and {upper_band}')\n",
    "\n",
    "                if bid_price > upper_band and states[balance_unit] == 'inside':     #sell signal\n",
    "                    print('sell')\n",
    "                    balance_unit = 'USDT'\n",
    "\n",
    "            time.sleep(1)\n",
    "        \n",
    "        except BinanceAPIException as e:\n",
    "            print(e.status_code)\n",
    "            print(e.message)\n",
    "            \n",
    "        "
   ]
  },
  {
   "cell_type": "code",
   "execution_count": null,
   "id": "69885bd4",
   "metadata": {},
   "outputs": [],
   "source": [
    "states"
   ]
  },
  {
   "cell_type": "code",
   "execution_count": null,
   "id": "068f4484",
   "metadata": {},
   "outputs": [],
   "source": []
  }
 ],
 "metadata": {
  "kernelspec": {
   "display_name": "Python 3 (ipykernel)",
   "language": "python",
   "name": "python3"
  },
  "language_info": {
   "codemirror_mode": {
    "name": "ipython",
    "version": 3
   },
   "file_extension": ".py",
   "mimetype": "text/x-python",
   "name": "python",
   "nbconvert_exporter": "python",
   "pygments_lexer": "ipython3",
   "version": "3.9.12"
  }
 },
 "nbformat": 4,
 "nbformat_minor": 5
}
